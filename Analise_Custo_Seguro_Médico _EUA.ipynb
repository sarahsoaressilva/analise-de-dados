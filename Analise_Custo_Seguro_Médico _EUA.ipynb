{
 "cells": [
  {
   "cell_type": "markdown",
   "id": "5faf814f",
   "metadata": {},
   "source": [
    "## Análise de Custos de Seguro Médico"
   ]
  },
  {
   "cell_type": "markdown",
   "id": "b67f5eab",
   "metadata": {},
   "source": [
    "**Fonte:** https://www.kaggle.com/mirichoi0218/insurance "
   ]
  },
  {
   "cell_type": "markdown",
   "id": "6644159d",
   "metadata": {},
   "source": [
    "Este código foi feito para estudar análise de dados e a biblioteca pandas. \n",
    "\n",
    "**Objetivo:** Investigar onde estão as pessoas de 18 anos que contrataram um seguro médico, quais os valores, incluindo o menor e maior, e quais os fatores que influenciaram nos valores."
   ]
  },
  {
   "cell_type": "code",
   "execution_count": 1,
   "id": "8974041b",
   "metadata": {},
   "outputs": [],
   "source": [
    "import pandas as pd\n",
    "import matplotlib"
   ]
  },
  {
   "cell_type": "code",
   "execution_count": 2,
   "id": "3988c3fe",
   "metadata": {},
   "outputs": [],
   "source": [
    "dataset = pd.read_csv(\"./dados/brutos/custo_saude/insurance.csv\", sep=\",\", encoding='ISO-8859-1')"
   ]
  },
  {
   "cell_type": "code",
   "execution_count": 3,
   "id": "b0683dcf",
   "metadata": {
    "scrolled": false
   },
   "outputs": [
    {
     "data": {
      "text/html": [
       "<div>\n",
       "<style scoped>\n",
       "    .dataframe tbody tr th:only-of-type {\n",
       "        vertical-align: middle;\n",
       "    }\n",
       "\n",
       "    .dataframe tbody tr th {\n",
       "        vertical-align: top;\n",
       "    }\n",
       "\n",
       "    .dataframe thead th {\n",
       "        text-align: right;\n",
       "    }\n",
       "</style>\n",
       "<table border=\"1\" class=\"dataframe\">\n",
       "  <thead>\n",
       "    <tr style=\"text-align: right;\">\n",
       "      <th></th>\n",
       "      <th>age</th>\n",
       "      <th>sex</th>\n",
       "      <th>bmi</th>\n",
       "      <th>children</th>\n",
       "      <th>smoker</th>\n",
       "      <th>region</th>\n",
       "      <th>charges</th>\n",
       "    </tr>\n",
       "  </thead>\n",
       "  <tbody>\n",
       "    <tr>\n",
       "      <th>0</th>\n",
       "      <td>19</td>\n",
       "      <td>female</td>\n",
       "      <td>27.900</td>\n",
       "      <td>0</td>\n",
       "      <td>yes</td>\n",
       "      <td>southwest</td>\n",
       "      <td>16884.92400</td>\n",
       "    </tr>\n",
       "    <tr>\n",
       "      <th>1</th>\n",
       "      <td>18</td>\n",
       "      <td>male</td>\n",
       "      <td>33.770</td>\n",
       "      <td>1</td>\n",
       "      <td>no</td>\n",
       "      <td>southeast</td>\n",
       "      <td>1725.55230</td>\n",
       "    </tr>\n",
       "    <tr>\n",
       "      <th>2</th>\n",
       "      <td>28</td>\n",
       "      <td>male</td>\n",
       "      <td>33.000</td>\n",
       "      <td>3</td>\n",
       "      <td>no</td>\n",
       "      <td>southeast</td>\n",
       "      <td>4449.46200</td>\n",
       "    </tr>\n",
       "    <tr>\n",
       "      <th>3</th>\n",
       "      <td>33</td>\n",
       "      <td>male</td>\n",
       "      <td>22.705</td>\n",
       "      <td>0</td>\n",
       "      <td>no</td>\n",
       "      <td>northwest</td>\n",
       "      <td>21984.47061</td>\n",
       "    </tr>\n",
       "    <tr>\n",
       "      <th>4</th>\n",
       "      <td>32</td>\n",
       "      <td>male</td>\n",
       "      <td>28.880</td>\n",
       "      <td>0</td>\n",
       "      <td>no</td>\n",
       "      <td>northwest</td>\n",
       "      <td>3866.85520</td>\n",
       "    </tr>\n",
       "    <tr>\n",
       "      <th>...</th>\n",
       "      <td>...</td>\n",
       "      <td>...</td>\n",
       "      <td>...</td>\n",
       "      <td>...</td>\n",
       "      <td>...</td>\n",
       "      <td>...</td>\n",
       "      <td>...</td>\n",
       "    </tr>\n",
       "    <tr>\n",
       "      <th>1333</th>\n",
       "      <td>50</td>\n",
       "      <td>male</td>\n",
       "      <td>30.970</td>\n",
       "      <td>3</td>\n",
       "      <td>no</td>\n",
       "      <td>northwest</td>\n",
       "      <td>10600.54830</td>\n",
       "    </tr>\n",
       "    <tr>\n",
       "      <th>1334</th>\n",
       "      <td>18</td>\n",
       "      <td>female</td>\n",
       "      <td>31.920</td>\n",
       "      <td>0</td>\n",
       "      <td>no</td>\n",
       "      <td>northeast</td>\n",
       "      <td>2205.98080</td>\n",
       "    </tr>\n",
       "    <tr>\n",
       "      <th>1335</th>\n",
       "      <td>18</td>\n",
       "      <td>female</td>\n",
       "      <td>36.850</td>\n",
       "      <td>0</td>\n",
       "      <td>no</td>\n",
       "      <td>southeast</td>\n",
       "      <td>1629.83350</td>\n",
       "    </tr>\n",
       "    <tr>\n",
       "      <th>1336</th>\n",
       "      <td>21</td>\n",
       "      <td>female</td>\n",
       "      <td>25.800</td>\n",
       "      <td>0</td>\n",
       "      <td>no</td>\n",
       "      <td>southwest</td>\n",
       "      <td>2007.94500</td>\n",
       "    </tr>\n",
       "    <tr>\n",
       "      <th>1337</th>\n",
       "      <td>61</td>\n",
       "      <td>female</td>\n",
       "      <td>29.070</td>\n",
       "      <td>0</td>\n",
       "      <td>yes</td>\n",
       "      <td>northwest</td>\n",
       "      <td>29141.36030</td>\n",
       "    </tr>\n",
       "  </tbody>\n",
       "</table>\n",
       "<p>1338 rows × 7 columns</p>\n",
       "</div>"
      ],
      "text/plain": [
       "      age     sex     bmi  children smoker     region      charges\n",
       "0      19  female  27.900         0    yes  southwest  16884.92400\n",
       "1      18    male  33.770         1     no  southeast   1725.55230\n",
       "2      28    male  33.000         3     no  southeast   4449.46200\n",
       "3      33    male  22.705         0     no  northwest  21984.47061\n",
       "4      32    male  28.880         0     no  northwest   3866.85520\n",
       "...   ...     ...     ...       ...    ...        ...          ...\n",
       "1333   50    male  30.970         3     no  northwest  10600.54830\n",
       "1334   18  female  31.920         0     no  northeast   2205.98080\n",
       "1335   18  female  36.850         0     no  southeast   1629.83350\n",
       "1336   21  female  25.800         0     no  southwest   2007.94500\n",
       "1337   61  female  29.070         0    yes  northwest  29141.36030\n",
       "\n",
       "[1338 rows x 7 columns]"
      ]
     },
     "execution_count": 3,
     "metadata": {},
     "output_type": "execute_result"
    }
   ],
   "source": [
    "dataset # 1338 linhas e 7 colunas."
   ]
  },
  {
   "cell_type": "code",
   "execution_count": 4,
   "id": "1df42bf5",
   "metadata": {},
   "outputs": [
    {
     "data": {
      "text/plain": [
       "array(['age', 'sex', 'bmi', 'children', 'smoker', 'region', 'charges'],\n",
       "      dtype=object)"
      ]
     },
     "execution_count": 4,
     "metadata": {},
     "output_type": "execute_result"
    }
   ],
   "source": [
    " # Garantindo que os valores das colunas são iguais. \n",
    "dataset.columns.values"
   ]
  },
  {
   "cell_type": "code",
   "execution_count": 5,
   "id": "5c3fedd4",
   "metadata": {},
   "outputs": [],
   "source": [
    "# Criando uma lista para aplicar o filtro.\n",
    "# O filtro faz com que os valores das colunas sejam selecionados pelo nome das colunas!!\n",
    "\n",
    "colunas = ['age', 'sex', 'bmi', 'children', 'smoker', 'region', 'charges'] "
   ]
  },
  {
   "cell_type": "code",
   "execution_count": 6,
   "id": "2e522b76",
   "metadata": {},
   "outputs": [],
   "source": [
    "# Aqui é criado uma variável que guarda os microdados + o filtro por colunas.\n",
    "colunasSelect = dataset.filter(items=colunas)"
   ]
  },
  {
   "cell_type": "code",
   "execution_count": 7,
   "id": "a49aea3b",
   "metadata": {
    "scrolled": true
   },
   "outputs": [],
   "source": [
    "# Atribuindo uma variável para cada coluna.\n",
    "# Criação das Séries de cada coluna.\n",
    "\n",
    "dadosAno = colunasSelect['age']\n",
    "dadosSexo = colunasSelect['sex']\n",
    "dadosMassa = colunasSelect['bmi']\n",
    "dadosCrianca = colunasSelect['children']\n",
    "dadosFuma = colunasSelect['smoker']\n",
    "dadosRegiao = colunasSelect['region']\n",
    "dadosCusto = colunasSelect['charges']"
   ]
  },
  {
   "cell_type": "markdown",
   "id": "4a0eaa88",
   "metadata": {},
   "source": [
    "### Qual é a menor idade que já possui Seguro Médico dentre os 100?"
   ]
  },
  {
   "cell_type": "code",
   "execution_count": 8,
   "id": "8f70b55f",
   "metadata": {
    "scrolled": true
   },
   "outputs": [
    {
     "data": {
      "text/plain": [
       "18    69\n",
       "19    68\n",
       "20    29\n",
       "21    28\n",
       "22    28\n",
       "23    28\n",
       "24    28\n",
       "25    28\n",
       "26    28\n",
       "27    28\n",
       "28    28\n",
       "29    27\n",
       "30    27\n",
       "31    27\n",
       "32    26\n",
       "33    26\n",
       "34    26\n",
       "35    25\n",
       "36    25\n",
       "37    25\n",
       "38    25\n",
       "39    25\n",
       "40    27\n",
       "41    27\n",
       "42    27\n",
       "43    27\n",
       "44    27\n",
       "45    29\n",
       "46    29\n",
       "47    29\n",
       "48    29\n",
       "49    28\n",
       "50    29\n",
       "51    29\n",
       "52    29\n",
       "53    28\n",
       "54    28\n",
       "55    26\n",
       "56    26\n",
       "57    26\n",
       "58    25\n",
       "59    25\n",
       "60    23\n",
       "61    23\n",
       "62    23\n",
       "63    23\n",
       "64    22\n",
       "Name: age, dtype: int64"
      ]
     },
     "execution_count": 8,
     "metadata": {},
     "output_type": "execute_result"
    }
   ],
   "source": [
    "dadosAno.value_counts().sort_index() #  Quantas linhas tem com cada idade?"
   ]
  },
  {
   "cell_type": "markdown",
   "id": "c4c70ead",
   "metadata": {},
   "source": [
    "Existem 69 pessoas com 18 anos que já possuem seguro médico.\n",
    "\n",
    "- De onde são essas pessoas?\n",
    "- Qual o valor dos seus seguros?\n",
    "- Desses gastos, qual é o menor e existe algum motivo? (crianças, fuma ou não, região)"
   ]
  },
  {
   "cell_type": "markdown",
   "id": "9edae423",
   "metadata": {},
   "source": [
    "### Histograma - Quantidade de Pessoas Por Idade."
   ]
  },
  {
   "cell_type": "code",
   "execution_count": 31,
   "id": "aa096de1",
   "metadata": {},
   "outputs": [
    {
     "data": {
      "text/plain": [
       "<AxesSubplot:>"
      ]
     },
     "execution_count": 31,
     "metadata": {},
     "output_type": "execute_result"
    },
    {
     "data": {
      "image/png": "[encoded data removed]",
      "text/plain": [
       "<Figure size 432x288 with 1 Axes>"
      ]
     },
     "metadata": {
      "needs_background": "light"
     },
     "output_type": "display_data"
    }
   ],
   "source": [
    "dadosAno.hist(bins=60, color='green')"
   ]
  },
  {
   "cell_type": "markdown",
   "id": "b00a6eaf",
   "metadata": {},
   "source": [
    "### Quais são as principais idades por região?\n",
    "\n",
    "#### Primeiramente, quantas pessoas temos por região?"
   ]
  },
  {
   "cell_type": "code",
   "execution_count": 50,
   "id": "277ce648",
   "metadata": {
    "scrolled": true
   },
   "outputs": [],
   "source": [
    "# Criando um dataframe para análise de idade x local.\n",
    "\n",
    "colunasSelecionadas = ['age', 'region']\n",
    "dfIdadeLocal = dataset.filter(items=colunasSelecionadas)\n",
    "\n",
    "# dataframeIdadeLocal.head()"
   ]
  },
  {
   "cell_type": "markdown",
   "id": "a361b294",
   "metadata": {},
   "source": [
    "Tradução das Regiões \n",
    "\n",
    "- southeast = sudeste\n",
    "- northwest = noroeste\n",
    "- southwest = sudoeste\n",
    "- northeast = nordeste"
   ]
  },
  {
   "cell_type": "code",
   "execution_count": 51,
   "id": "9ebb2ae0",
   "metadata": {
    "scrolled": true
   },
   "outputs": [
    {
     "data": {
      "text/plain": [
       "southeast    364\n",
       "southwest    325\n",
       "northwest    325\n",
       "northeast    324\n",
       "Name: region, dtype: int64"
      ]
     },
     "execution_count": 51,
     "metadata": {},
     "output_type": "execute_result"
    }
   ],
   "source": [
    "# Valor bruto.\n",
    "dadosRegiao.value_counts()"
   ]
  },
  {
   "cell_type": "markdown",
   "id": "3dc566e9",
   "metadata": {},
   "source": [
    "Qual o **percentual** de pessoas com seguro médico por região?"
   ]
  },
  {
   "cell_type": "code",
   "execution_count": 35,
   "id": "62ebb848",
   "metadata": {},
   "outputs": [],
   "source": [
    "distRegiao = dadosRegiao.value_counts()"
   ]
  },
  {
   "cell_type": "code",
   "execution_count": 42,
   "id": "fc120c5c",
   "metadata": {},
   "outputs": [],
   "source": [
    "# Para cada valor de distRegião, vamos multiplicar por 100 e dividir com a soma do distRegião.\n",
    "#percentRegiao = [100*x/distRegiao.sum() for x in distRegiao]\n",
    "percentRegiao = [ ( distRegiao/distRegiao.sum() ) * 100]"
   ]
  },
  {
   "cell_type": "code",
   "execution_count": 43,
   "id": "7ef15046",
   "metadata": {},
   "outputs": [
    {
     "data": {
      "text/plain": [
       "[southeast    27.204783\n",
       " southwest    24.289985\n",
       " northwest    24.289985\n",
       " northeast    24.215247\n",
       " Name: region, dtype: float64]"
      ]
     },
     "execution_count": 43,
     "metadata": {},
     "output_type": "execute_result"
    }
   ],
   "source": [
    "percentRegiao"
   ]
  },
  {
   "cell_type": "markdown",
   "id": "c00745eb",
   "metadata": {},
   "source": [
    "**Atenção! Valores Arredondados.**\n",
    "\n",
    "- southeast: 27.2%\n",
    "- northwest: 24.3%\n",
    "- southwest: 24.3%\n",
    "- northeast: 24.2%"
   ]
  },
  {
   "cell_type": "markdown",
   "id": "4e0ea840",
   "metadata": {},
   "source": [
    "#### Histograma - Seguros por região.\n"
   ]
  },
  {
   "cell_type": "code",
   "execution_count": 48,
   "id": "45fdac6a",
   "metadata": {},
   "outputs": [
    {
     "data": {
      "text/plain": [
       "<AxesSubplot:>"
      ]
     },
     "execution_count": 48,
     "metadata": {},
     "output_type": "execute_result"
    },
    {
     "data": {
      "image/png": "[encoded data removed]",
      "text/plain": [
       "<Figure size 432x288 with 1 Axes>"
      ]
     },
     "metadata": {
      "needs_background": "light"
     },
     "output_type": "display_data"
    }
   ],
   "source": [
    "dadosRegiao.hist(bins=15)"
   ]
  },
  {
   "cell_type": "markdown",
   "id": "1d40d69d",
   "metadata": {},
   "source": [
    "#### Segundamente, dentro dessas regiões, quantas são as pessoas com 18 anos?"
   ]
  },
  {
   "cell_type": "code",
   "execution_count": 56,
   "id": "942299d6",
   "metadata": {},
   "outputs": [
    {
     "data": {
      "text/html": [
       "<div>\n",
       "<style scoped>\n",
       "    .dataframe tbody tr th:only-of-type {\n",
       "        vertical-align: middle;\n",
       "    }\n",
       "\n",
       "    .dataframe tbody tr th {\n",
       "        vertical-align: top;\n",
       "    }\n",
       "\n",
       "    .dataframe thead th {\n",
       "        text-align: right;\n",
       "    }\n",
       "</style>\n",
       "<table border=\"1\" class=\"dataframe\">\n",
       "  <thead>\n",
       "    <tr style=\"text-align: right;\">\n",
       "      <th></th>\n",
       "      <th>age</th>\n",
       "    </tr>\n",
       "    <tr>\n",
       "      <th>region</th>\n",
       "      <th></th>\n",
       "    </tr>\n",
       "  </thead>\n",
       "  <tbody>\n",
       "    <tr>\n",
       "      <th>northeast</th>\n",
       "      <td>32</td>\n",
       "    </tr>\n",
       "    <tr>\n",
       "      <th>southeast</th>\n",
       "      <td>37</td>\n",
       "    </tr>\n",
       "  </tbody>\n",
       "</table>\n",
       "</div>"
      ],
      "text/plain": [
       "           age\n",
       "region        \n",
       "northeast   32\n",
       "southeast   37"
      ]
     },
     "execution_count": 56,
     "metadata": {},
     "output_type": "execute_result"
    }
   ],
   "source": [
    "dfIdadeLocal[dfIdadeLocal.age == 18].groupby('region').count()"
   ]
  },
  {
   "cell_type": "markdown",
   "id": "2de8f78c",
   "metadata": {},
   "source": [
    "- Existem 32 pessoas com 18 anos no Nordeste.\n",
    "- Existem 37 pessoas com 18 anos no Sudeste."
   ]
  },
  {
   "cell_type": "markdown",
   "id": "8213f8f1",
   "metadata": {},
   "source": [
    "## Descobrindo qual é o valor do seguro."
   ]
  },
  {
   "cell_type": "markdown",
   "id": "df22c4a3",
   "metadata": {},
   "source": [
    "#### Primeiramente, comecemos por Sudeste."
   ]
  },
  {
   "cell_type": "code",
   "execution_count": 58,
   "id": "cf3b276a",
   "metadata": {
    "scrolled": true
   },
   "outputs": [
    {
     "data": {
      "text/html": [
       "<div>\n",
       "<style scoped>\n",
       "    .dataframe tbody tr th:only-of-type {\n",
       "        vertical-align: middle;\n",
       "    }\n",
       "\n",
       "    .dataframe tbody tr th {\n",
       "        vertical-align: top;\n",
       "    }\n",
       "\n",
       "    .dataframe thead th {\n",
       "        text-align: right;\n",
       "    }\n",
       "</style>\n",
       "<table border=\"1\" class=\"dataframe\">\n",
       "  <thead>\n",
       "    <tr style=\"text-align: right;\">\n",
       "      <th></th>\n",
       "      <th>region</th>\n",
       "    </tr>\n",
       "    <tr>\n",
       "      <th>age</th>\n",
       "      <th></th>\n",
       "    </tr>\n",
       "  </thead>\n",
       "  <tbody>\n",
       "    <tr>\n",
       "      <th>18</th>\n",
       "      <td>37</td>\n",
       "    </tr>\n",
       "    <tr>\n",
       "      <th>19</th>\n",
       "      <td>3</td>\n",
       "    </tr>\n",
       "    <tr>\n",
       "      <th>20</th>\n",
       "      <td>8</td>\n",
       "    </tr>\n",
       "    <tr>\n",
       "      <th>21</th>\n",
       "      <td>7</td>\n",
       "    </tr>\n",
       "    <tr>\n",
       "      <th>22</th>\n",
       "      <td>8</td>\n",
       "    </tr>\n",
       "    <tr>\n",
       "      <th>23</th>\n",
       "      <td>7</td>\n",
       "    </tr>\n",
       "    <tr>\n",
       "      <th>24</th>\n",
       "      <td>7</td>\n",
       "    </tr>\n",
       "    <tr>\n",
       "      <th>25</th>\n",
       "      <td>7</td>\n",
       "    </tr>\n",
       "    <tr>\n",
       "      <th>26</th>\n",
       "      <td>7</td>\n",
       "    </tr>\n",
       "    <tr>\n",
       "      <th>27</th>\n",
       "      <td>9</td>\n",
       "    </tr>\n",
       "    <tr>\n",
       "      <th>28</th>\n",
       "      <td>8</td>\n",
       "    </tr>\n",
       "    <tr>\n",
       "      <th>29</th>\n",
       "      <td>7</td>\n",
       "    </tr>\n",
       "    <tr>\n",
       "      <th>30</th>\n",
       "      <td>8</td>\n",
       "    </tr>\n",
       "    <tr>\n",
       "      <th>31</th>\n",
       "      <td>7</td>\n",
       "    </tr>\n",
       "    <tr>\n",
       "      <th>32</th>\n",
       "      <td>8</td>\n",
       "    </tr>\n",
       "    <tr>\n",
       "      <th>33</th>\n",
       "      <td>8</td>\n",
       "    </tr>\n",
       "    <tr>\n",
       "      <th>34</th>\n",
       "      <td>6</td>\n",
       "    </tr>\n",
       "    <tr>\n",
       "      <th>35</th>\n",
       "      <td>6</td>\n",
       "    </tr>\n",
       "    <tr>\n",
       "      <th>36</th>\n",
       "      <td>7</td>\n",
       "    </tr>\n",
       "    <tr>\n",
       "      <th>37</th>\n",
       "      <td>6</td>\n",
       "    </tr>\n",
       "    <tr>\n",
       "      <th>38</th>\n",
       "      <td>7</td>\n",
       "    </tr>\n",
       "    <tr>\n",
       "      <th>39</th>\n",
       "      <td>6</td>\n",
       "    </tr>\n",
       "    <tr>\n",
       "      <th>40</th>\n",
       "      <td>8</td>\n",
       "    </tr>\n",
       "    <tr>\n",
       "      <th>41</th>\n",
       "      <td>8</td>\n",
       "    </tr>\n",
       "    <tr>\n",
       "      <th>42</th>\n",
       "      <td>8</td>\n",
       "    </tr>\n",
       "    <tr>\n",
       "      <th>43</th>\n",
       "      <td>8</td>\n",
       "    </tr>\n",
       "    <tr>\n",
       "      <th>44</th>\n",
       "      <td>8</td>\n",
       "    </tr>\n",
       "    <tr>\n",
       "      <th>45</th>\n",
       "      <td>7</td>\n",
       "    </tr>\n",
       "    <tr>\n",
       "      <th>46</th>\n",
       "      <td>7</td>\n",
       "    </tr>\n",
       "    <tr>\n",
       "      <th>47</th>\n",
       "      <td>9</td>\n",
       "    </tr>\n",
       "    <tr>\n",
       "      <th>48</th>\n",
       "      <td>9</td>\n",
       "    </tr>\n",
       "    <tr>\n",
       "      <th>49</th>\n",
       "      <td>7</td>\n",
       "    </tr>\n",
       "    <tr>\n",
       "      <th>50</th>\n",
       "      <td>7</td>\n",
       "    </tr>\n",
       "    <tr>\n",
       "      <th>51</th>\n",
       "      <td>9</td>\n",
       "    </tr>\n",
       "    <tr>\n",
       "      <th>52</th>\n",
       "      <td>7</td>\n",
       "    </tr>\n",
       "    <tr>\n",
       "      <th>53</th>\n",
       "      <td>7</td>\n",
       "    </tr>\n",
       "    <tr>\n",
       "      <th>54</th>\n",
       "      <td>7</td>\n",
       "    </tr>\n",
       "    <tr>\n",
       "      <th>55</th>\n",
       "      <td>7</td>\n",
       "    </tr>\n",
       "    <tr>\n",
       "      <th>56</th>\n",
       "      <td>6</td>\n",
       "    </tr>\n",
       "    <tr>\n",
       "      <th>57</th>\n",
       "      <td>6</td>\n",
       "    </tr>\n",
       "    <tr>\n",
       "      <th>58</th>\n",
       "      <td>6</td>\n",
       "    </tr>\n",
       "    <tr>\n",
       "      <th>59</th>\n",
       "      <td>8</td>\n",
       "    </tr>\n",
       "    <tr>\n",
       "      <th>60</th>\n",
       "      <td>6</td>\n",
       "    </tr>\n",
       "    <tr>\n",
       "      <th>61</th>\n",
       "      <td>5</td>\n",
       "    </tr>\n",
       "    <tr>\n",
       "      <th>62</th>\n",
       "      <td>6</td>\n",
       "    </tr>\n",
       "    <tr>\n",
       "      <th>63</th>\n",
       "      <td>6</td>\n",
       "    </tr>\n",
       "    <tr>\n",
       "      <th>64</th>\n",
       "      <td>8</td>\n",
       "    </tr>\n",
       "  </tbody>\n",
       "</table>\n",
       "</div>"
      ],
      "text/plain": [
       "     region\n",
       "age        \n",
       "18       37\n",
       "19        3\n",
       "20        8\n",
       "21        7\n",
       "22        8\n",
       "23        7\n",
       "24        7\n",
       "25        7\n",
       "26        7\n",
       "27        9\n",
       "28        8\n",
       "29        7\n",
       "30        8\n",
       "31        7\n",
       "32        8\n",
       "33        8\n",
       "34        6\n",
       "35        6\n",
       "36        7\n",
       "37        6\n",
       "38        7\n",
       "39        6\n",
       "40        8\n",
       "41        8\n",
       "42        8\n",
       "43        8\n",
       "44        8\n",
       "45        7\n",
       "46        7\n",
       "47        9\n",
       "48        9\n",
       "49        7\n",
       "50        7\n",
       "51        9\n",
       "52        7\n",
       "53        7\n",
       "54        7\n",
       "55        7\n",
       "56        6\n",
       "57        6\n",
       "58        6\n",
       "59        8\n",
       "60        6\n",
       "61        5\n",
       "62        6\n",
       "63        6\n",
       "64        8"
      ]
     },
     "execution_count": 58,
     "metadata": {},
     "output_type": "execute_result"
    }
   ],
   "source": [
    "# Existem 37 pessoas com 18 anos nesta região.\n",
    "\n",
    "dfSudesteIdade = dfIdadeLocal[dfIdadeLocal.region == 'southeast'].groupby('age').count()\n",
    "\n",
    "# Visualizando.\n",
    "dfSudesteIdade"
   ]
  },
  {
   "cell_type": "code",
   "execution_count": 59,
   "id": "8104885c",
   "metadata": {},
   "outputs": [],
   "source": [
    "# Criando um novo dataframe, dessa vez junto com os custos.\n",
    "\n",
    "colunasSelecionadas2 = ['age', 'region', 'charges'] \n",
    "dfIdadeLocalCusto = dataset.filter(items=colunasSelecionadas2)"
   ]
  },
  {
   "cell_type": "code",
   "execution_count": 60,
   "id": "5f9f6f73",
   "metadata": {},
   "outputs": [
    {
     "data": {
      "text/html": [
       "<div>\n",
       "<style scoped>\n",
       "    .dataframe tbody tr th:only-of-type {\n",
       "        vertical-align: middle;\n",
       "    }\n",
       "\n",
       "    .dataframe tbody tr th {\n",
       "        vertical-align: top;\n",
       "    }\n",
       "\n",
       "    .dataframe thead th {\n",
       "        text-align: right;\n",
       "    }\n",
       "</style>\n",
       "<table border=\"1\" class=\"dataframe\">\n",
       "  <thead>\n",
       "    <tr style=\"text-align: right;\">\n",
       "      <th></th>\n",
       "      <th>age</th>\n",
       "      <th>region</th>\n",
       "      <th>charges</th>\n",
       "    </tr>\n",
       "  </thead>\n",
       "  <tbody>\n",
       "    <tr>\n",
       "      <th>1</th>\n",
       "      <td>18</td>\n",
       "      <td>southeast</td>\n",
       "      <td>1725.5523</td>\n",
       "    </tr>\n",
       "    <tr>\n",
       "      <th>2</th>\n",
       "      <td>28</td>\n",
       "      <td>southeast</td>\n",
       "      <td>4449.4620</td>\n",
       "    </tr>\n",
       "    <tr>\n",
       "      <th>5</th>\n",
       "      <td>31</td>\n",
       "      <td>southeast</td>\n",
       "      <td>3756.6216</td>\n",
       "    </tr>\n",
       "    <tr>\n",
       "      <th>6</th>\n",
       "      <td>46</td>\n",
       "      <td>southeast</td>\n",
       "      <td>8240.5896</td>\n",
       "    </tr>\n",
       "    <tr>\n",
       "      <th>11</th>\n",
       "      <td>62</td>\n",
       "      <td>southeast</td>\n",
       "      <td>27808.7251</td>\n",
       "    </tr>\n",
       "  </tbody>\n",
       "</table>\n",
       "</div>"
      ],
      "text/plain": [
       "    age     region     charges\n",
       "1    18  southeast   1725.5523\n",
       "2    28  southeast   4449.4620\n",
       "5    31  southeast   3756.6216\n",
       "6    46  southeast   8240.5896\n",
       "11   62  southeast  27808.7251"
      ]
     },
     "execution_count": 60,
     "metadata": {},
     "output_type": "execute_result"
    }
   ],
   "source": [
    "# dataframeIdadeLocalCusto[dataframeIdadeLocalCusto.age == 18]\n",
    "\n",
    "dfSoutheast = dfIdadeLocalCusto[dfIdadeLocalCusto.region == 'southeast']\n",
    "dfSoutheast.head()"
   ]
  },
  {
   "cell_type": "markdown",
   "id": "18fadbb4",
   "metadata": {},
   "source": [
    "#### Nesta região, qual o valor máximo de gastos com o seguro para a idade de 18 anos?"
   ]
  },
  {
   "cell_type": "code",
   "execution_count": 63,
   "id": "2bb769cc",
   "metadata": {
    "scrolled": true
   },
   "outputs": [
    {
     "data": {
      "text/plain": [
       "age                18\n",
       "region      southeast\n",
       "charges    38792.6856\n",
       "dtype: object"
      ]
     },
     "execution_count": 63,
     "metadata": {},
     "output_type": "execute_result"
    }
   ],
   "source": [
    "dfSoutheast[dfSoutheast.age == 18].max()"
   ]
  },
  {
   "cell_type": "markdown",
   "id": "d1cb4022",
   "metadata": {},
   "source": [
    "#### E qual seria o valor mínimo de seguro para a mesma idade?"
   ]
  },
  {
   "cell_type": "code",
   "execution_count": 64,
   "id": "b3cb3476",
   "metadata": {
    "scrolled": true
   },
   "outputs": [
    {
     "data": {
      "text/plain": [
       "age               18\n",
       "region     southeast\n",
       "charges    1121.8739\n",
       "dtype: object"
      ]
     },
     "execution_count": 64,
     "metadata": {},
     "output_type": "execute_result"
    }
   ],
   "source": [
    "dfSoutheast[dfSoutheast.age == 18].min()"
   ]
  },
  {
   "cell_type": "markdown",
   "id": "34ffccad",
   "metadata": {},
   "source": [
    "- O valor mínimo de seguro é 1121.8739 (dolares).\n",
    "- O valor máximo de seguro é 38792.6856 (dolares)."
   ]
  },
  {
   "cell_type": "markdown",
   "id": "9159e920",
   "metadata": {},
   "source": [
    "#### Realizando o mesmo processo com Nordeste."
   ]
  },
  {
   "cell_type": "code",
   "execution_count": 65,
   "id": "3bcf68b5",
   "metadata": {},
   "outputs": [],
   "source": [
    "# A variável serve para facilitar a aplicação de funções built-in na pesquisa.\n",
    "\n",
    "dfNortheast = dfIdadeLocalCusto[dfIdadeLocalCusto.region == 'northeast']"
   ]
  },
  {
   "cell_type": "code",
   "execution_count": 66,
   "id": "0370c849",
   "metadata": {},
   "outputs": [
    {
     "data": {
      "text/plain": [
       "age                 18\n",
       "region       northeast\n",
       "charges    34617.84065\n",
       "dtype: object"
      ]
     },
     "execution_count": 66,
     "metadata": {},
     "output_type": "execute_result"
    }
   ],
   "source": [
    "dfNortheast[dfNortheast.age == 18].max()"
   ]
  },
  {
   "cell_type": "code",
   "execution_count": 67,
   "id": "a94fe404",
   "metadata": {},
   "outputs": [
    {
     "data": {
      "text/plain": [
       "age               18\n",
       "region     northeast\n",
       "charges    1694.7964\n",
       "dtype: object"
      ]
     },
     "execution_count": 67,
     "metadata": {},
     "output_type": "execute_result"
    }
   ],
   "source": [
    "dfNortheast[dfNortheast.age == 18].min()"
   ]
  },
  {
   "cell_type": "markdown",
   "id": "66ba9924",
   "metadata": {},
   "source": [
    "- O valor mínimo de seguro é 1694.7964 (dolares).\n",
    "- O valor máximo de seguro é 34617.84065 (dolares)."
   ]
  },
  {
   "cell_type": "markdown",
   "id": "79674d9a",
   "metadata": {},
   "source": [
    "## Investigando outras variáveis:"
   ]
  },
  {
   "cell_type": "code",
   "execution_count": 68,
   "id": "891e3178",
   "metadata": {},
   "outputs": [],
   "source": [
    "colunasSelecionadas3 = ['age', 'region','children', 'smoker', 'charges', ] \n",
    "dfOutras = dataset.filter(items=colunasSelecionadas3)"
   ]
  },
  {
   "cell_type": "code",
   "execution_count": 69,
   "id": "c70cdb89",
   "metadata": {},
   "outputs": [
    {
     "data": {
      "text/html": [
       "<div>\n",
       "<style scoped>\n",
       "    .dataframe tbody tr th:only-of-type {\n",
       "        vertical-align: middle;\n",
       "    }\n",
       "\n",
       "    .dataframe tbody tr th {\n",
       "        vertical-align: top;\n",
       "    }\n",
       "\n",
       "    .dataframe thead th {\n",
       "        text-align: right;\n",
       "    }\n",
       "</style>\n",
       "<table border=\"1\" class=\"dataframe\">\n",
       "  <thead>\n",
       "    <tr style=\"text-align: right;\">\n",
       "      <th></th>\n",
       "      <th>age</th>\n",
       "      <th>region</th>\n",
       "      <th>children</th>\n",
       "      <th>smoker</th>\n",
       "      <th>charges</th>\n",
       "    </tr>\n",
       "  </thead>\n",
       "  <tbody>\n",
       "    <tr>\n",
       "      <th>1</th>\n",
       "      <td>18</td>\n",
       "      <td>southeast</td>\n",
       "      <td>1</td>\n",
       "      <td>no</td>\n",
       "      <td>1725.55230</td>\n",
       "    </tr>\n",
       "    <tr>\n",
       "      <th>22</th>\n",
       "      <td>18</td>\n",
       "      <td>southeast</td>\n",
       "      <td>0</td>\n",
       "      <td>no</td>\n",
       "      <td>1137.01100</td>\n",
       "    </tr>\n",
       "    <tr>\n",
       "      <th>31</th>\n",
       "      <td>18</td>\n",
       "      <td>northeast</td>\n",
       "      <td>0</td>\n",
       "      <td>no</td>\n",
       "      <td>2198.18985</td>\n",
       "    </tr>\n",
       "    <tr>\n",
       "      <th>46</th>\n",
       "      <td>18</td>\n",
       "      <td>northeast</td>\n",
       "      <td>2</td>\n",
       "      <td>no</td>\n",
       "      <td>3393.35635</td>\n",
       "    </tr>\n",
       "    <tr>\n",
       "      <th>50</th>\n",
       "      <td>18</td>\n",
       "      <td>northeast</td>\n",
       "      <td>0</td>\n",
       "      <td>no</td>\n",
       "      <td>2211.13075</td>\n",
       "    </tr>\n",
       "    <tr>\n",
       "      <th>...</th>\n",
       "      <td>...</td>\n",
       "      <td>...</td>\n",
       "      <td>...</td>\n",
       "      <td>...</td>\n",
       "      <td>...</td>\n",
       "    </tr>\n",
       "    <tr>\n",
       "      <th>1296</th>\n",
       "      <td>18</td>\n",
       "      <td>northeast</td>\n",
       "      <td>0</td>\n",
       "      <td>no</td>\n",
       "      <td>1708.92575</td>\n",
       "    </tr>\n",
       "    <tr>\n",
       "      <th>1315</th>\n",
       "      <td>18</td>\n",
       "      <td>northeast</td>\n",
       "      <td>1</td>\n",
       "      <td>no</td>\n",
       "      <td>11272.33139</td>\n",
       "    </tr>\n",
       "    <tr>\n",
       "      <th>1317</th>\n",
       "      <td>18</td>\n",
       "      <td>southeast</td>\n",
       "      <td>0</td>\n",
       "      <td>no</td>\n",
       "      <td>1163.46270</td>\n",
       "    </tr>\n",
       "    <tr>\n",
       "      <th>1334</th>\n",
       "      <td>18</td>\n",
       "      <td>northeast</td>\n",
       "      <td>0</td>\n",
       "      <td>no</td>\n",
       "      <td>2205.98080</td>\n",
       "    </tr>\n",
       "    <tr>\n",
       "      <th>1335</th>\n",
       "      <td>18</td>\n",
       "      <td>southeast</td>\n",
       "      <td>0</td>\n",
       "      <td>no</td>\n",
       "      <td>1629.83350</td>\n",
       "    </tr>\n",
       "  </tbody>\n",
       "</table>\n",
       "<p>69 rows × 5 columns</p>\n",
       "</div>"
      ],
      "text/plain": [
       "      age     region  children smoker      charges\n",
       "1      18  southeast         1     no   1725.55230\n",
       "22     18  southeast         0     no   1137.01100\n",
       "31     18  northeast         0     no   2198.18985\n",
       "46     18  northeast         2     no   3393.35635\n",
       "50     18  northeast         0     no   2211.13075\n",
       "...   ...        ...       ...    ...          ...\n",
       "1296   18  northeast         0     no   1708.92575\n",
       "1315   18  northeast         1     no  11272.33139\n",
       "1317   18  southeast         0     no   1163.46270\n",
       "1334   18  northeast         0     no   2205.98080\n",
       "1335   18  southeast         0     no   1629.83350\n",
       "\n",
       "[69 rows x 5 columns]"
      ]
     },
     "execution_count": 69,
     "metadata": {},
     "output_type": "execute_result"
    }
   ],
   "source": [
    "dfOutras[dfOutras.age == 18]"
   ]
  },
  {
   "cell_type": "code",
   "execution_count": 86,
   "id": "212d748e",
   "metadata": {
    "scrolled": true
   },
   "outputs": [
    {
     "data": {
      "text/html": [
       "<div>\n",
       "<style scoped>\n",
       "    .dataframe tbody tr th:only-of-type {\n",
       "        vertical-align: middle;\n",
       "    }\n",
       "\n",
       "    .dataframe tbody tr th {\n",
       "        vertical-align: top;\n",
       "    }\n",
       "\n",
       "    .dataframe thead th {\n",
       "        text-align: right;\n",
       "    }\n",
       "</style>\n",
       "<table border=\"1\" class=\"dataframe\">\n",
       "  <thead>\n",
       "    <tr style=\"text-align: right;\">\n",
       "      <th></th>\n",
       "      <th>age</th>\n",
       "      <th>region</th>\n",
       "      <th>children</th>\n",
       "      <th>smoker</th>\n",
       "      <th>charges</th>\n",
       "    </tr>\n",
       "  </thead>\n",
       "  <tbody>\n",
       "    <tr>\n",
       "      <th>1</th>\n",
       "      <td>18</td>\n",
       "      <td>southeast</td>\n",
       "      <td>1</td>\n",
       "      <td>no</td>\n",
       "      <td>1725.55230</td>\n",
       "    </tr>\n",
       "    <tr>\n",
       "      <th>46</th>\n",
       "      <td>18</td>\n",
       "      <td>northeast</td>\n",
       "      <td>2</td>\n",
       "      <td>no</td>\n",
       "      <td>3393.35635</td>\n",
       "    </tr>\n",
       "    <tr>\n",
       "      <th>57</th>\n",
       "      <td>18</td>\n",
       "      <td>southeast</td>\n",
       "      <td>2</td>\n",
       "      <td>yes</td>\n",
       "      <td>34303.16720</td>\n",
       "    </tr>\n",
       "    <tr>\n",
       "      <th>250</th>\n",
       "      <td>18</td>\n",
       "      <td>northeast</td>\n",
       "      <td>2</td>\n",
       "      <td>yes</td>\n",
       "      <td>12829.45510</td>\n",
       "    </tr>\n",
       "    <tr>\n",
       "      <th>270</th>\n",
       "      <td>18</td>\n",
       "      <td>southeast</td>\n",
       "      <td>1</td>\n",
       "      <td>no</td>\n",
       "      <td>1719.43630</td>\n",
       "    </tr>\n",
       "    <tr>\n",
       "      <th>369</th>\n",
       "      <td>18</td>\n",
       "      <td>northeast</td>\n",
       "      <td>3</td>\n",
       "      <td>no</td>\n",
       "      <td>3481.86800</td>\n",
       "    </tr>\n",
       "    <tr>\n",
       "      <th>469</th>\n",
       "      <td>18</td>\n",
       "      <td>southeast</td>\n",
       "      <td>1</td>\n",
       "      <td>no</td>\n",
       "      <td>2201.09710</td>\n",
       "    </tr>\n",
       "    <tr>\n",
       "      <th>564</th>\n",
       "      <td>18</td>\n",
       "      <td>southeast</td>\n",
       "      <td>2</td>\n",
       "      <td>no</td>\n",
       "      <td>2801.25880</td>\n",
       "    </tr>\n",
       "    <tr>\n",
       "      <th>571</th>\n",
       "      <td>18</td>\n",
       "      <td>southeast</td>\n",
       "      <td>1</td>\n",
       "      <td>no</td>\n",
       "      <td>2219.44510</td>\n",
       "    </tr>\n",
       "    <tr>\n",
       "      <th>710</th>\n",
       "      <td>18</td>\n",
       "      <td>southeast</td>\n",
       "      <td>1</td>\n",
       "      <td>no</td>\n",
       "      <td>1727.54000</td>\n",
       "    </tr>\n",
       "    <tr>\n",
       "      <th>938</th>\n",
       "      <td>18</td>\n",
       "      <td>southeast</td>\n",
       "      <td>2</td>\n",
       "      <td>no</td>\n",
       "      <td>2304.00220</td>\n",
       "    </tr>\n",
       "    <tr>\n",
       "      <th>1023</th>\n",
       "      <td>18</td>\n",
       "      <td>southeast</td>\n",
       "      <td>1</td>\n",
       "      <td>no</td>\n",
       "      <td>1711.02680</td>\n",
       "    </tr>\n",
       "    <tr>\n",
       "      <th>1080</th>\n",
       "      <td>18</td>\n",
       "      <td>southeast</td>\n",
       "      <td>2</td>\n",
       "      <td>no</td>\n",
       "      <td>11884.04858</td>\n",
       "    </tr>\n",
       "    <tr>\n",
       "      <th>1095</th>\n",
       "      <td>18</td>\n",
       "      <td>northeast</td>\n",
       "      <td>4</td>\n",
       "      <td>no</td>\n",
       "      <td>4561.18850</td>\n",
       "    </tr>\n",
       "    <tr>\n",
       "      <th>1170</th>\n",
       "      <td>18</td>\n",
       "      <td>northeast</td>\n",
       "      <td>1</td>\n",
       "      <td>yes</td>\n",
       "      <td>17178.68240</td>\n",
       "    </tr>\n",
       "    <tr>\n",
       "      <th>1204</th>\n",
       "      <td>18</td>\n",
       "      <td>southeast</td>\n",
       "      <td>3</td>\n",
       "      <td>yes</td>\n",
       "      <td>18223.45120</td>\n",
       "    </tr>\n",
       "    <tr>\n",
       "      <th>1283</th>\n",
       "      <td>18</td>\n",
       "      <td>southeast</td>\n",
       "      <td>1</td>\n",
       "      <td>no</td>\n",
       "      <td>1720.35370</td>\n",
       "    </tr>\n",
       "    <tr>\n",
       "      <th>1315</th>\n",
       "      <td>18</td>\n",
       "      <td>northeast</td>\n",
       "      <td>1</td>\n",
       "      <td>no</td>\n",
       "      <td>11272.33139</td>\n",
       "    </tr>\n",
       "  </tbody>\n",
       "</table>\n",
       "</div>"
      ],
      "text/plain": [
       "      age     region  children smoker      charges\n",
       "1      18  southeast         1     no   1725.55230\n",
       "46     18  northeast         2     no   3393.35635\n",
       "57     18  southeast         2    yes  34303.16720\n",
       "250    18  northeast         2    yes  12829.45510\n",
       "270    18  southeast         1     no   1719.43630\n",
       "369    18  northeast         3     no   3481.86800\n",
       "469    18  southeast         1     no   2201.09710\n",
       "564    18  southeast         2     no   2801.25880\n",
       "571    18  southeast         1     no   2219.44510\n",
       "710    18  southeast         1     no   1727.54000\n",
       "938    18  southeast         2     no   2304.00220\n",
       "1023   18  southeast         1     no   1711.02680\n",
       "1080   18  southeast         2     no  11884.04858\n",
       "1095   18  northeast         4     no   4561.18850\n",
       "1170   18  northeast         1    yes  17178.68240\n",
       "1204   18  southeast         3    yes  18223.45120\n",
       "1283   18  southeast         1     no   1720.35370\n",
       "1315   18  northeast         1     no  11272.33139"
      ]
     },
     "execution_count": 86,
     "metadata": {},
     "output_type": "execute_result"
    }
   ],
   "source": [
    "# O fato de ter uma criança implica no gasto do seguro? E o fato de ser fumante?\n",
    "\n",
    "cond1 = dfOutras.children > 0\n",
    "cond2 = dfOutras.age == 18\n",
    "\n",
    "dfOutras[cond1 & cond2]"
   ]
  }
 ],
 "metadata": {
  "kernelspec": {
   "display_name": "Python 3 (ipykernel)",
   "language": "python",
   "name": "python3"
  },
  "language_info": {
   "codemirror_mode": {
    "name": "ipython",
    "version": 3
   },
   "file_extension": ".py",
   "mimetype": "text/x-python",
   "name": "python",
   "nbconvert_exporter": "python",
   "pygments_lexer": "ipython3",
   "version": "3.9.7"
  }
 },
 "nbformat": 4,
 "nbformat_minor": 5
}
