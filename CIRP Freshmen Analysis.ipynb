{
 "cells": [
  {
   "cell_type": "markdown",
   "id": "d7334770",
   "metadata": {},
   "source": [
    "# Análise dos Microdados da Pesquisa de Freshman CIRP"
   ]
  },
  {
   "cell_type": "markdown",
   "id": "b5ff5863",
   "metadata": {},
   "source": [
    "**Fonte dos Dados:** https://datahub.io/core/cirp-survey-of-freshmen#resource-freshmen-survey"
   ]
  },
  {
   "cell_type": "code",
   "execution_count": 12,
   "id": "b327472c",
   "metadata": {},
   "outputs": [],
   "source": [
    "import pandas as pd\n",
    "import matplotlib "
   ]
  },
  {
   "cell_type": "code",
   "execution_count": 9,
   "id": "3bf269ab",
   "metadata": {},
   "outputs": [],
   "source": [
    "#  Importando os dados\n",
    "dadosPesq = pd.read_csv(\"./dados/brutos/freshmen-survey_csv.csv\", sep=\",\", encoding='ISO-8859-1') "
   ]
  },
  {
   "cell_type": "code",
   "execution_count": 10,
   "id": "cce2af2f",
   "metadata": {
    "collapsed": true
   },
   "outputs": [
    {
     "data": {
      "text/html": [
       "<div>\n",
       "<style scoped>\n",
       "    .dataframe tbody tr th:only-of-type {\n",
       "        vertical-align: middle;\n",
       "    }\n",
       "\n",
       "    .dataframe tbody tr th {\n",
       "        vertical-align: top;\n",
       "    }\n",
       "\n",
       "    .dataframe thead th {\n",
       "        text-align: right;\n",
       "    }\n",
       "</style>\n",
       "<table border=\"1\" class=\"dataframe\">\n",
       "  <thead>\n",
       "    <tr style=\"text-align: right;\">\n",
       "      <th></th>\n",
       "      <th>Survey</th>\n",
       "      <th>All Bacc Institutions</th>\n",
       "      <th>4-yr Coll(Baccalaureate Institutions)</th>\n",
       "      <th>Universities(Baccalaureate Institutions)</th>\n",
       "      <th>Public 4-year Colleges</th>\n",
       "      <th>Private 4-year Colleges</th>\n",
       "      <th>Nonsec 4-year Colleges</th>\n",
       "      <th>Catholic 4-year Colleges</th>\n",
       "      <th>Oth Relig 4-year Colleges</th>\n",
       "      <th>Public Universities</th>\n",
       "      <th>Private Universities</th>\n",
       "      <th>All HBCU</th>\n",
       "      <th>Public HBCU</th>\n",
       "      <th>Private HBCU</th>\n",
       "    </tr>\n",
       "  </thead>\n",
       "  <tbody>\n",
       "    <tr>\n",
       "      <th>0</th>\n",
       "      <td>First-time Full-time Freshmen</td>\n",
       "      <td>153015.0</td>\n",
       "      <td>96733.0</td>\n",
       "      <td>56282.0</td>\n",
       "      <td>38681.0</td>\n",
       "      <td>58052.0</td>\n",
       "      <td>26229.0</td>\n",
       "      <td>13149.0</td>\n",
       "      <td>18674.0</td>\n",
       "      <td>33242.0</td>\n",
       "      <td>23040.0</td>\n",
       "      <td>5261.0</td>\n",
       "      <td>2450.0</td>\n",
       "      <td>2811.0</td>\n",
       "    </tr>\n",
       "    <tr>\n",
       "      <th>1</th>\n",
       "      <td>How old will you be on December 31 of this year?</td>\n",
       "      <td>NaN</td>\n",
       "      <td>NaN</td>\n",
       "      <td>NaN</td>\n",
       "      <td>NaN</td>\n",
       "      <td>NaN</td>\n",
       "      <td>NaN</td>\n",
       "      <td>NaN</td>\n",
       "      <td>NaN</td>\n",
       "      <td>NaN</td>\n",
       "      <td>NaN</td>\n",
       "      <td>NaN</td>\n",
       "      <td>NaN</td>\n",
       "      <td>NaN</td>\n",
       "    </tr>\n",
       "    <tr>\n",
       "      <th>2</th>\n",
       "      <td>17 or younger</td>\n",
       "      <td>1.8</td>\n",
       "      <td>1.8</td>\n",
       "      <td>1.8</td>\n",
       "      <td>1.9</td>\n",
       "      <td>1.7</td>\n",
       "      <td>2.0</td>\n",
       "      <td>1.6</td>\n",
       "      <td>1.5</td>\n",
       "      <td>1.8</td>\n",
       "      <td>1.8</td>\n",
       "      <td>2.6</td>\n",
       "      <td>2.3</td>\n",
       "      <td>3.1</td>\n",
       "    </tr>\n",
       "    <tr>\n",
       "      <th>3</th>\n",
       "      <td>18</td>\n",
       "      <td>70.4</td>\n",
       "      <td>70.2</td>\n",
       "      <td>70.6</td>\n",
       "      <td>73.2</td>\n",
       "      <td>66.1</td>\n",
       "      <td>67.5</td>\n",
       "      <td>70.1</td>\n",
       "      <td>62.7</td>\n",
       "      <td>71.0</td>\n",
       "      <td>68.7</td>\n",
       "      <td>68.1</td>\n",
       "      <td>68.1</td>\n",
       "      <td>68.1</td>\n",
       "    </tr>\n",
       "    <tr>\n",
       "      <th>4</th>\n",
       "      <td>19</td>\n",
       "      <td>26.3</td>\n",
       "      <td>26.0</td>\n",
       "      <td>26.6</td>\n",
       "      <td>23.0</td>\n",
       "      <td>30.0</td>\n",
       "      <td>28.4</td>\n",
       "      <td>26.9</td>\n",
       "      <td>33.2</td>\n",
       "      <td>26.3</td>\n",
       "      <td>28.2</td>\n",
       "      <td>26.1</td>\n",
       "      <td>26.7</td>\n",
       "      <td>24.9</td>\n",
       "    </tr>\n",
       "  </tbody>\n",
       "</table>\n",
       "</div>"
      ],
      "text/plain": [
       "                                             Survey  All Bacc Institutions  \\\n",
       "0                     First-time Full-time Freshmen               153015.0   \n",
       "1  How old will you be on December 31 of this year?                    NaN   \n",
       "2                                     17 or younger                    1.8   \n",
       "3                                                18                   70.4   \n",
       "4                                                19                   26.3   \n",
       "\n",
       "   4-yr Coll(Baccalaureate Institutions)  \\\n",
       "0                                96733.0   \n",
       "1                                    NaN   \n",
       "2                                    1.8   \n",
       "3                                   70.2   \n",
       "4                                   26.0   \n",
       "\n",
       "   Universities(Baccalaureate Institutions)  Public 4-year Colleges  \\\n",
       "0                                   56282.0                 38681.0   \n",
       "1                                       NaN                     NaN   \n",
       "2                                       1.8                     1.9   \n",
       "3                                      70.6                    73.2   \n",
       "4                                      26.6                    23.0   \n",
       "\n",
       "   Private 4-year Colleges  Nonsec 4-year Colleges  Catholic 4-year Colleges  \\\n",
       "0                  58052.0                 26229.0                   13149.0   \n",
       "1                      NaN                     NaN                       NaN   \n",
       "2                      1.7                     2.0                       1.6   \n",
       "3                     66.1                    67.5                      70.1   \n",
       "4                     30.0                    28.4                      26.9   \n",
       "\n",
       "   Oth Relig 4-year Colleges  Public Universities  Private Universities  \\\n",
       "0                    18674.0              33242.0               23040.0   \n",
       "1                        NaN                  NaN                   NaN   \n",
       "2                        1.5                  1.8                   1.8   \n",
       "3                       62.7                 71.0                  68.7   \n",
       "4                       33.2                 26.3                  28.2   \n",
       "\n",
       "   All HBCU  Public HBCU  Private HBCU  \n",
       "0    5261.0       2450.0        2811.0  \n",
       "1       NaN          NaN           NaN  \n",
       "2       2.6          2.3           3.1  \n",
       "3      68.1         68.1          68.1  \n",
       "4      26.1         26.7          24.9  "
      ]
     },
     "execution_count": 10,
     "metadata": {},
     "output_type": "execute_result"
    }
   ],
   "source": [
    "#  Mostra as colunas.\n",
    "dadosPesq.head() "
   ]
  },
  {
   "cell_type": "code",
   "execution_count": 11,
   "id": "b706d502",
   "metadata": {
    "scrolled": true
   },
   "outputs": [
    {
     "data": {
      "text/html": [
       "<div>\n",
       "<style scoped>\n",
       "    .dataframe tbody tr th:only-of-type {\n",
       "        vertical-align: middle;\n",
       "    }\n",
       "\n",
       "    .dataframe tbody tr th {\n",
       "        vertical-align: top;\n",
       "    }\n",
       "\n",
       "    .dataframe thead th {\n",
       "        text-align: right;\n",
       "    }\n",
       "</style>\n",
       "<table border=\"1\" class=\"dataframe\">\n",
       "  <thead>\n",
       "    <tr style=\"text-align: right;\">\n",
       "      <th></th>\n",
       "      <th>Survey</th>\n",
       "      <th>All Bacc Institutions</th>\n",
       "      <th>4-yr Coll(Baccalaureate Institutions)</th>\n",
       "      <th>Universities(Baccalaureate Institutions)</th>\n",
       "      <th>Public 4-year Colleges</th>\n",
       "      <th>Private 4-year Colleges</th>\n",
       "      <th>Nonsec 4-year Colleges</th>\n",
       "      <th>Catholic 4-year Colleges</th>\n",
       "      <th>Oth Relig 4-year Colleges</th>\n",
       "      <th>Public Universities</th>\n",
       "      <th>Private Universities</th>\n",
       "      <th>All HBCU</th>\n",
       "      <th>Public HBCU</th>\n",
       "      <th>Private HBCU</th>\n",
       "    </tr>\n",
       "  </thead>\n",
       "  <tbody>\n",
       "    <tr>\n",
       "      <th>0</th>\n",
       "      <td>First-time Full-time Freshmen</td>\n",
       "      <td>153015.0</td>\n",
       "      <td>96733.0</td>\n",
       "      <td>56282.0</td>\n",
       "      <td>38681.0</td>\n",
       "      <td>58052.0</td>\n",
       "      <td>26229.0</td>\n",
       "      <td>13149.0</td>\n",
       "      <td>18674.0</td>\n",
       "      <td>33242.0</td>\n",
       "      <td>23040.0</td>\n",
       "      <td>5261.0</td>\n",
       "      <td>2450.0</td>\n",
       "      <td>2811.0</td>\n",
       "    </tr>\n",
       "    <tr>\n",
       "      <th>1</th>\n",
       "      <td>How old will you be on December 31 of this year?</td>\n",
       "      <td>NaN</td>\n",
       "      <td>NaN</td>\n",
       "      <td>NaN</td>\n",
       "      <td>NaN</td>\n",
       "      <td>NaN</td>\n",
       "      <td>NaN</td>\n",
       "      <td>NaN</td>\n",
       "      <td>NaN</td>\n",
       "      <td>NaN</td>\n",
       "      <td>NaN</td>\n",
       "      <td>NaN</td>\n",
       "      <td>NaN</td>\n",
       "      <td>NaN</td>\n",
       "    </tr>\n",
       "    <tr>\n",
       "      <th>2</th>\n",
       "      <td>17 or younger</td>\n",
       "      <td>1.8</td>\n",
       "      <td>1.8</td>\n",
       "      <td>1.8</td>\n",
       "      <td>1.9</td>\n",
       "      <td>1.7</td>\n",
       "      <td>2.0</td>\n",
       "      <td>1.6</td>\n",
       "      <td>1.5</td>\n",
       "      <td>1.8</td>\n",
       "      <td>1.8</td>\n",
       "      <td>2.6</td>\n",
       "      <td>2.3</td>\n",
       "      <td>3.1</td>\n",
       "    </tr>\n",
       "    <tr>\n",
       "      <th>3</th>\n",
       "      <td>18</td>\n",
       "      <td>70.4</td>\n",
       "      <td>70.2</td>\n",
       "      <td>70.6</td>\n",
       "      <td>73.2</td>\n",
       "      <td>66.1</td>\n",
       "      <td>67.5</td>\n",
       "      <td>70.1</td>\n",
       "      <td>62.7</td>\n",
       "      <td>71.0</td>\n",
       "      <td>68.7</td>\n",
       "      <td>68.1</td>\n",
       "      <td>68.1</td>\n",
       "      <td>68.1</td>\n",
       "    </tr>\n",
       "    <tr>\n",
       "      <th>4</th>\n",
       "      <td>19</td>\n",
       "      <td>26.3</td>\n",
       "      <td>26.0</td>\n",
       "      <td>26.6</td>\n",
       "      <td>23.0</td>\n",
       "      <td>30.0</td>\n",
       "      <td>28.4</td>\n",
       "      <td>26.9</td>\n",
       "      <td>33.2</td>\n",
       "      <td>26.3</td>\n",
       "      <td>28.2</td>\n",
       "      <td>26.1</td>\n",
       "      <td>26.7</td>\n",
       "      <td>24.9</td>\n",
       "    </tr>\n",
       "    <tr>\n",
       "      <th>...</th>\n",
       "      <td>...</td>\n",
       "      <td>...</td>\n",
       "      <td>...</td>\n",
       "      <td>...</td>\n",
       "      <td>...</td>\n",
       "      <td>...</td>\n",
       "      <td>...</td>\n",
       "      <td>...</td>\n",
       "      <td>...</td>\n",
       "      <td>...</td>\n",
       "      <td>...</td>\n",
       "      <td>...</td>\n",
       "      <td>...</td>\n",
       "      <td>...</td>\n",
       "    </tr>\n",
       "    <tr>\n",
       "      <th>1002</th>\n",
       "      <td>Take a leave of absence from this college temp...</td>\n",
       "      <td>2.5</td>\n",
       "      <td>2.9</td>\n",
       "      <td>2.0</td>\n",
       "      <td>2.8</td>\n",
       "      <td>3.0</td>\n",
       "      <td>2.6</td>\n",
       "      <td>3.3</td>\n",
       "      <td>3.3</td>\n",
       "      <td>1.8</td>\n",
       "      <td>2.4</td>\n",
       "      <td>6.8</td>\n",
       "      <td>7.0</td>\n",
       "      <td>6.5</td>\n",
       "    </tr>\n",
       "    <tr>\n",
       "      <th>1003</th>\n",
       "      <td>Take a course exclusively online at this insti...</td>\n",
       "      <td>6.7</td>\n",
       "      <td>7.5</td>\n",
       "      <td>5.7</td>\n",
       "      <td>8.4</td>\n",
       "      <td>6.2</td>\n",
       "      <td>5.0</td>\n",
       "      <td>7.5</td>\n",
       "      <td>6.6</td>\n",
       "      <td>6.1</td>\n",
       "      <td>4.4</td>\n",
       "      <td>12.0</td>\n",
       "      <td>13.0</td>\n",
       "      <td>10.2</td>\n",
       "    </tr>\n",
       "    <tr>\n",
       "      <th>1004</th>\n",
       "      <td>Take a course exclusively online at a different</td>\n",
       "      <td>NaN</td>\n",
       "      <td>NaN</td>\n",
       "      <td>NaN</td>\n",
       "      <td>NaN</td>\n",
       "      <td>NaN</td>\n",
       "      <td>NaN</td>\n",
       "      <td>NaN</td>\n",
       "      <td>NaN</td>\n",
       "      <td>NaN</td>\n",
       "      <td>NaN</td>\n",
       "      <td>NaN</td>\n",
       "      <td>NaN</td>\n",
       "      <td>NaN</td>\n",
       "    </tr>\n",
       "    <tr>\n",
       "      <th>1005</th>\n",
       "      <td>institution</td>\n",
       "      <td>3.0</td>\n",
       "      <td>3.3</td>\n",
       "      <td>2.6</td>\n",
       "      <td>3.3</td>\n",
       "      <td>3.4</td>\n",
       "      <td>2.9</td>\n",
       "      <td>3.5</td>\n",
       "      <td>3.8</td>\n",
       "      <td>2.6</td>\n",
       "      <td>2.7</td>\n",
       "      <td>7.7</td>\n",
       "      <td>7.9</td>\n",
       "      <td>7.5</td>\n",
       "    </tr>\n",
       "    <tr>\n",
       "      <th>1006</th>\n",
       "      <td>Vote in a local, state, or national election</td>\n",
       "      <td>50.3</td>\n",
       "      <td>46.6</td>\n",
       "      <td>54.5</td>\n",
       "      <td>45.1</td>\n",
       "      <td>48.7</td>\n",
       "      <td>48.8</td>\n",
       "      <td>49.5</td>\n",
       "      <td>48.3</td>\n",
       "      <td>54.3</td>\n",
       "      <td>55.2</td>\n",
       "      <td>48.9</td>\n",
       "      <td>46.9</td>\n",
       "      <td>52.4</td>\n",
       "    </tr>\n",
       "  </tbody>\n",
       "</table>\n",
       "<p>1007 rows × 14 columns</p>\n",
       "</div>"
      ],
      "text/plain": [
       "                                                 Survey  \\\n",
       "0                         First-time Full-time Freshmen   \n",
       "1      How old will you be on December 31 of this year?   \n",
       "2                                         17 or younger   \n",
       "3                                                    18   \n",
       "4                                                    19   \n",
       "...                                                 ...   \n",
       "1002  Take a leave of absence from this college temp...   \n",
       "1003  Take a course exclusively online at this insti...   \n",
       "1004    Take a course exclusively online at a different   \n",
       "1005                                        institution   \n",
       "1006       Vote in a local, state, or national election   \n",
       "\n",
       "      All Bacc Institutions  4-yr Coll(Baccalaureate Institutions)  \\\n",
       "0                  153015.0                                96733.0   \n",
       "1                       NaN                                    NaN   \n",
       "2                       1.8                                    1.8   \n",
       "3                      70.4                                   70.2   \n",
       "4                      26.3                                   26.0   \n",
       "...                     ...                                    ...   \n",
       "1002                    2.5                                    2.9   \n",
       "1003                    6.7                                    7.5   \n",
       "1004                    NaN                                    NaN   \n",
       "1005                    3.0                                    3.3   \n",
       "1006                   50.3                                   46.6   \n",
       "\n",
       "      Universities(Baccalaureate Institutions)  Public 4-year Colleges  \\\n",
       "0                                      56282.0                 38681.0   \n",
       "1                                          NaN                     NaN   \n",
       "2                                          1.8                     1.9   \n",
       "3                                         70.6                    73.2   \n",
       "4                                         26.6                    23.0   \n",
       "...                                        ...                     ...   \n",
       "1002                                       2.0                     2.8   \n",
       "1003                                       5.7                     8.4   \n",
       "1004                                       NaN                     NaN   \n",
       "1005                                       2.6                     3.3   \n",
       "1006                                      54.5                    45.1   \n",
       "\n",
       "      Private 4-year Colleges  Nonsec 4-year Colleges  \\\n",
       "0                     58052.0                 26229.0   \n",
       "1                         NaN                     NaN   \n",
       "2                         1.7                     2.0   \n",
       "3                        66.1                    67.5   \n",
       "4                        30.0                    28.4   \n",
       "...                       ...                     ...   \n",
       "1002                      3.0                     2.6   \n",
       "1003                      6.2                     5.0   \n",
       "1004                      NaN                     NaN   \n",
       "1005                      3.4                     2.9   \n",
       "1006                     48.7                    48.8   \n",
       "\n",
       "      Catholic 4-year Colleges  Oth Relig 4-year Colleges  \\\n",
       "0                      13149.0                    18674.0   \n",
       "1                          NaN                        NaN   \n",
       "2                          1.6                        1.5   \n",
       "3                         70.1                       62.7   \n",
       "4                         26.9                       33.2   \n",
       "...                        ...                        ...   \n",
       "1002                       3.3                        3.3   \n",
       "1003                       7.5                        6.6   \n",
       "1004                       NaN                        NaN   \n",
       "1005                       3.5                        3.8   \n",
       "1006                      49.5                       48.3   \n",
       "\n",
       "      Public Universities  Private Universities  All HBCU  Public HBCU  \\\n",
       "0                 33242.0               23040.0    5261.0       2450.0   \n",
       "1                     NaN                   NaN       NaN          NaN   \n",
       "2                     1.8                   1.8       2.6          2.3   \n",
       "3                    71.0                  68.7      68.1         68.1   \n",
       "4                    26.3                  28.2      26.1         26.7   \n",
       "...                   ...                   ...       ...          ...   \n",
       "1002                  1.8                   2.4       6.8          7.0   \n",
       "1003                  6.1                   4.4      12.0         13.0   \n",
       "1004                  NaN                   NaN       NaN          NaN   \n",
       "1005                  2.6                   2.7       7.7          7.9   \n",
       "1006                 54.3                  55.2      48.9         46.9   \n",
       "\n",
       "      Private HBCU  \n",
       "0           2811.0  \n",
       "1              NaN  \n",
       "2              3.1  \n",
       "3             68.1  \n",
       "4             24.9  \n",
       "...            ...  \n",
       "1002           6.5  \n",
       "1003          10.2  \n",
       "1004           NaN  \n",
       "1005           7.5  \n",
       "1006          52.4  \n",
       "\n",
       "[1007 rows x 14 columns]"
      ]
     },
     "execution_count": 11,
     "metadata": {},
     "output_type": "execute_result"
    }
   ],
   "source": [
    "#  Mostra um resumo da tabela.\n",
    "dadosPesq"
   ]
  },
  {
   "cell_type": "code",
   "execution_count": 13,
   "id": "f3be5b81",
   "metadata": {
    "collapsed": true
   },
   "outputs": [
    {
     "data": {
      "text/plain": [
       "array(['Survey', 'All Bacc Institutions',\n",
       "       '4-yr Coll(Baccalaureate Institutions)',\n",
       "       'Universities(Baccalaureate Institutions)',\n",
       "       'Public 4-year Colleges', 'Private 4-year Colleges',\n",
       "       'Nonsec 4-year Colleges', 'Catholic 4-year Colleges',\n",
       "       'Oth Relig 4-year Colleges', 'Public Universities',\n",
       "       'Private Universities', 'All HBCU', 'Public HBCU', 'Private HBCU'],\n",
       "      dtype=object)"
      ]
     },
     "execution_count": 13,
     "metadata": {},
     "output_type": "execute_result"
    }
   ],
   "source": [
    "#  Valores das Colunas.\n",
    "dadosPesq.columns.values"
   ]
  },
  {
   "cell_type": "code",
   "execution_count": 17,
   "id": "c7ad2a4b",
   "metadata": {},
   "outputs": [],
   "source": [
    "#  Escolher / Filtras as colunas que nos interessam no dataframe.\n",
    "#  Objetivo: analisar quais as respostas específicas das UNIVERSIDADES.\n",
    "\n",
    "colunasSelect = ['Survey', 'All Bacc Institutions',\n",
    "       'Universities(Baccalaureate Institutions)', 'Public Universities',\n",
    "       'Private Universities', 'All HBCU', 'Public HBCU', 'Private HBCU']"
   ]
  },
  {
   "cell_type": "code",
   "execution_count": 18,
   "id": "a97c2ab8",
   "metadata": {},
   "outputs": [],
   "source": [
    "#  Filtrando, resulta em um DataFrame com menos colunas. Processa mais rápido.\n",
    "dadosPesqSelect = dadosPesq.filter(items=colunasSelect)"
   ]
  },
  {
   "cell_type": "code",
   "execution_count": 19,
   "id": "73df2280",
   "metadata": {
    "collapsed": true
   },
   "outputs": [
    {
     "data": {
      "text/html": [
       "<div>\n",
       "<style scoped>\n",
       "    .dataframe tbody tr th:only-of-type {\n",
       "        vertical-align: middle;\n",
       "    }\n",
       "\n",
       "    .dataframe tbody tr th {\n",
       "        vertical-align: top;\n",
       "    }\n",
       "\n",
       "    .dataframe thead th {\n",
       "        text-align: right;\n",
       "    }\n",
       "</style>\n",
       "<table border=\"1\" class=\"dataframe\">\n",
       "  <thead>\n",
       "    <tr style=\"text-align: right;\">\n",
       "      <th></th>\n",
       "      <th>Survey</th>\n",
       "      <th>All Bacc Institutions</th>\n",
       "      <th>Universities(Baccalaureate Institutions)</th>\n",
       "      <th>Public Universities</th>\n",
       "      <th>Private Universities</th>\n",
       "      <th>All HBCU</th>\n",
       "      <th>Public HBCU</th>\n",
       "      <th>Private HBCU</th>\n",
       "    </tr>\n",
       "  </thead>\n",
       "  <tbody>\n",
       "    <tr>\n",
       "      <th>0</th>\n",
       "      <td>First-time Full-time Freshmen</td>\n",
       "      <td>153015.0</td>\n",
       "      <td>56282.0</td>\n",
       "      <td>33242.0</td>\n",
       "      <td>23040.0</td>\n",
       "      <td>5261.0</td>\n",
       "      <td>2450.0</td>\n",
       "      <td>2811.0</td>\n",
       "    </tr>\n",
       "    <tr>\n",
       "      <th>1</th>\n",
       "      <td>How old will you be on December 31 of this year?</td>\n",
       "      <td>NaN</td>\n",
       "      <td>NaN</td>\n",
       "      <td>NaN</td>\n",
       "      <td>NaN</td>\n",
       "      <td>NaN</td>\n",
       "      <td>NaN</td>\n",
       "      <td>NaN</td>\n",
       "    </tr>\n",
       "    <tr>\n",
       "      <th>2</th>\n",
       "      <td>17 or younger</td>\n",
       "      <td>1.8</td>\n",
       "      <td>1.8</td>\n",
       "      <td>1.8</td>\n",
       "      <td>1.8</td>\n",
       "      <td>2.6</td>\n",
       "      <td>2.3</td>\n",
       "      <td>3.1</td>\n",
       "    </tr>\n",
       "    <tr>\n",
       "      <th>3</th>\n",
       "      <td>18</td>\n",
       "      <td>70.4</td>\n",
       "      <td>70.6</td>\n",
       "      <td>71.0</td>\n",
       "      <td>68.7</td>\n",
       "      <td>68.1</td>\n",
       "      <td>68.1</td>\n",
       "      <td>68.1</td>\n",
       "    </tr>\n",
       "    <tr>\n",
       "      <th>4</th>\n",
       "      <td>19</td>\n",
       "      <td>26.3</td>\n",
       "      <td>26.6</td>\n",
       "      <td>26.3</td>\n",
       "      <td>28.2</td>\n",
       "      <td>26.1</td>\n",
       "      <td>26.7</td>\n",
       "      <td>24.9</td>\n",
       "    </tr>\n",
       "  </tbody>\n",
       "</table>\n",
       "</div>"
      ],
      "text/plain": [
       "                                             Survey  All Bacc Institutions  \\\n",
       "0                     First-time Full-time Freshmen               153015.0   \n",
       "1  How old will you be on December 31 of this year?                    NaN   \n",
       "2                                     17 or younger                    1.8   \n",
       "3                                                18                   70.4   \n",
       "4                                                19                   26.3   \n",
       "\n",
       "   Universities(Baccalaureate Institutions)  Public Universities  \\\n",
       "0                                   56282.0              33242.0   \n",
       "1                                       NaN                  NaN   \n",
       "2                                       1.8                  1.8   \n",
       "3                                      70.6                 71.0   \n",
       "4                                      26.6                 26.3   \n",
       "\n",
       "   Private Universities  All HBCU  Public HBCU  Private HBCU  \n",
       "0               23040.0    5261.0       2450.0        2811.0  \n",
       "1                   NaN       NaN          NaN           NaN  \n",
       "2                   1.8       2.6          2.3           3.1  \n",
       "3                  68.7      68.1         68.1          68.1  \n",
       "4                  28.2      26.1         26.7          24.9  "
      ]
     },
     "execution_count": 19,
     "metadata": {},
     "output_type": "execute_result"
    }
   ],
   "source": [
    "dadosPesqSelect.head()"
   ]
  },
  {
   "cell_type": "code",
   "execution_count": 24,
   "id": "d0f0d071",
   "metadata": {},
   "outputs": [],
   "source": [
    "#  Tail: pegar as linhas que queremos. 1007 linhas no total.\n",
    "#  Visualizar os 10 primeiros.\n",
    "dadosPesq10 = dadosPesq[0:10]"
   ]
  },
  {
   "cell_type": "code",
   "execution_count": 29,
   "id": "cfaa933b",
   "metadata": {},
   "outputs": [],
   "source": [
    "#  Selecionar uma coluna específica.\n",
    "#  Coluna com as perguntas separadas.\n",
    "\n",
    "#  Se usar a colunasSelect dá erro!! Já que é uma lista, precisaria informar o indice.\n",
    "\n",
    "coluna_perguntas = dadosPesqSelect['Survey']"
   ]
  },
  {
   "cell_type": "code",
   "execution_count": 30,
   "id": "df2378f3",
   "metadata": {},
   "outputs": [
    {
     "data": {
      "text/plain": [
       "0                           First-time Full-time Freshmen\n",
       "1        How old will you be on December 31 of this year?\n",
       "2                                           17 or younger\n",
       "3                                                      18\n",
       "4                                                      19\n",
       "                              ...                        \n",
       "1002    Take a leave of absence from this college temp...\n",
       "1003    Take a course exclusively online at this insti...\n",
       "1004      Take a course exclusively online at a different\n",
       "1005                                          institution\n",
       "1006         Vote in a local, state, or national election\n",
       "Name: Survey, Length: 1007, dtype: object"
      ]
     },
     "execution_count": 30,
     "metadata": {},
     "output_type": "execute_result"
    }
   ],
   "source": [
    "#  Série: lista com indices no panda. No caso, é uma lista com as perguntas e os indices.\n",
    "coluna_perguntas"
   ]
  },
  {
   "cell_type": "code",
   "execution_count": 33,
   "id": "f9c80975",
   "metadata": {},
   "outputs": [
    {
     "data": {
      "text/plain": [
       "None                                            25\n",
       "3 to 5 hours                                    13\n",
       "Less than one hour                              13\n",
       "1 to 2 hours                                    13\n",
       "Over 20 hours                                   13\n",
       "                                                ..\n",
       "study, other income)                             1\n",
       "Aid which need not be repaid (grants,            1\n",
       "scholarships, military funding, etc.)            1\n",
       "Aid which must be repaid (loans, etc.)           1\n",
       "Vote in a local, state, or national election     1\n",
       "Name: Survey, Length: 666, dtype: int64"
      ]
     },
     "execution_count": 33,
     "metadata": {},
     "output_type": "execute_result"
    }
   ],
   "source": [
    "#  série.value_counts() -> conta quantas linhas tem com cada variável da lista.\n",
    "#  série.value_counts().sort_index() --> ordenar por letra alfabetica.\n",
    "\n",
    "#  Quantas pessoas responderam cada pergunta?\n",
    "coluna_perguntas.value_counts()"
   ]
  },
  {
   "cell_type": "code",
   "execution_count": 34,
   "id": "82a42eac",
   "metadata": {},
   "outputs": [],
   "source": [
    "# 'All Bacc Institutions',\n",
    "#'Universities(Baccalaureate Institutions)', 'Public Universities',\n",
    "#'Private Universities', 'All HBCU', 'Public HBCU', 'Private HBCU']\n",
    "\n",
    "coluna_insBacharelados = dadosPesqSelect['All Bacc Institutions']"
   ]
  },
  {
   "cell_type": "code",
   "execution_count": 35,
   "id": "bdaaeff9",
   "metadata": {},
   "outputs": [],
   "source": [
    "coluna_publicas = dadosPesqSelect['Public Universities']"
   ]
  },
  {
   "cell_type": "code",
   "execution_count": 36,
   "id": "c07a49fc",
   "metadata": {},
   "outputs": [],
   "source": [
    "coluna_privadas = dadosPesqSelect['Private Universities']"
   ]
  },
  {
   "cell_type": "code",
   "execution_count": 37,
   "id": "97e5ea73",
   "metadata": {},
   "outputs": [],
   "source": [
    "coluna_todasHBCU = dadosPesqSelect['All HBCU']"
   ]
  },
  {
   "cell_type": "code",
   "execution_count": 38,
   "id": "0de79557",
   "metadata": {},
   "outputs": [],
   "source": [
    "coluna_publicasHBCU = dadosPesqSelect['Public HBCU']\n",
    "colunas_privadasHBCU = dadosPesqSelect['Private HBCU']"
   ]
  },
  {
   "cell_type": "code",
   "execution_count": 45,
   "id": "7d41c0c2",
   "metadata": {},
   "outputs": [
    {
     "data": {
      "text/plain": [
       "0       153015.0\n",
       "1            NaN\n",
       "2            1.8\n",
       "3           70.4\n",
       "4           26.3\n",
       "          ...   \n",
       "1002         2.5\n",
       "1003         6.7\n",
       "1004         NaN\n",
       "1005         3.0\n",
       "1006        50.3\n",
       "Name: All Bacc Institutions, Length: 1007, dtype: float64"
      ]
     },
     "execution_count": 45,
     "metadata": {},
     "output_type": "execute_result"
    }
   ],
   "source": [
    "#  Quantas pessoas de universidades bacharel (em geral) responderam a pesquisa?\n",
    "coluna_insBacharelados"
   ]
  },
  {
   "cell_type": "code",
   "execution_count": 65,
   "id": "31f4ec32",
   "metadata": {},
   "outputs": [
    {
     "data": {
      "text/plain": [
       "0                       First-time Full-time Freshmen\n",
       "1    How old will you be on December 31 of this year?\n",
       "2                                       17 or younger\n",
       "3                                                  18\n",
       "4                                                  19\n",
       "5                                         20 or older\n",
       "Name: Survey, dtype: object"
      ]
     },
     "execution_count": 65,
     "metadata": {},
     "output_type": "execute_result"
    }
   ],
   "source": [
    "#  Comparação para os números acima e abaixo. \n",
    "#  Coluna de perguntas com foco na idade.\n",
    "\n",
    "coluna_perguntas[0:6]"
   ]
  },
  {
   "cell_type": "code",
   "execution_count": 67,
   "id": "5e352917",
   "metadata": {},
   "outputs": [
    {
     "data": {
      "text/plain": [
       "0    5261.0\n",
       "1       NaN\n",
       "2       2.6\n",
       "3      68.1\n",
       "4      26.1\n",
       "5       3.3\n",
       "Name: All HBCU, dtype: float64"
      ]
     },
     "execution_count": 67,
     "metadata": {},
     "output_type": "execute_result"
    }
   ],
   "source": [
    "#  Quantas pessoas de universidades HBCU (em geral) responderam a pesquisa?\n",
    "\n",
    "#  Insights: muitas pessoas novas (18 anos), menos que as outras universidades.\n",
    "#  Insights: em comparação as outras universidades, poucas pessoas responderam a pesquisa.\n",
    "\n",
    "#  Hipotese: As universidades HBCU tem menos pessoas que as outras universidades.\n",
    "\n",
    "coluna_todasHBCU[0:6]"
   ]
  },
  {
   "cell_type": "code",
   "execution_count": 57,
   "id": "d27f769f",
   "metadata": {},
   "outputs": [
    {
     "data": {
      "text/plain": [
       "<AxesSubplot:>"
      ]
     },
     "execution_count": 57,
     "metadata": {},
     "output_type": "execute_result"
    },
    {
     "data": {
      "image/png": "[encoded data removed]",
      "text/plain": [
       "<Figure size 432x288 with 1 Axes>"
      ]
     },
     "metadata": {
      "needs_background": "light"
     },
     "output_type": "display_data"
    }
   ],
   "source": [
    "#  Criando um histograma com a MatPlotLib.\n",
    "#  bins=numero --> melhorar a distribuição do gráfico.\n",
    "\n",
    "coluna_insBacharelados.hist(bins=2)"
   ]
  },
  {
   "cell_type": "code",
   "execution_count": 74,
   "id": "6c63e316",
   "metadata": {},
   "outputs": [
    {
     "data": {
      "text/plain": [
       "<AxesSubplot:>"
      ]
     },
     "execution_count": 74,
     "metadata": {},
     "output_type": "execute_result"
    },
    {
     "data": {
      "image/png": "[encoded data removed]",
      "text/plain": [
       "<Figure size 432x288 with 1 Axes>"
      ]
     },
     "metadata": {
      "needs_background": "light"
     },
     "output_type": "display_data"
    }
   ],
   "source": [
    "coluna_todasHBCU.hist(bins=2)"
   ]
  },
  {
   "cell_type": "code",
   "execution_count": 70,
   "id": "cbad92f4",
   "metadata": {},
   "outputs": [],
   "source": [
    "#  Comparando respostas de universidades privadas e públicas HBCU.\n",
    "\n",
    "# Insights:  \n",
    "\n",
    "#            As duas possuem a mesma quantidade de pessoas com 18 anos.\n",
    "#            As universidades públicas possuem um numero maior de pessoas com idade == 19.\n",
    "#            As universidades privadas possuem um numero maior de pessoas com idade > 20.\n",
    "\n",
    "# Hipoteses: \n",
    "\n",
    "#            Universidades públicas HBCU possuem + pessoas com 18 e 19 do que as privadas.\n",
    "#            Universidades privadas HBCU possuem + pessoas com 20 anos ou + do que a pública.\n",
    "#            Ambas as universidades, o maior público é dos 18 e 19 anos.\n"
   ]
  },
  {
   "cell_type": "code",
   "execution_count": 69,
   "id": "e1a88893",
   "metadata": {
    "scrolled": true
   },
   "outputs": [
    {
     "data": {
      "text/plain": [
       "0    2811.0\n",
       "1       NaN\n",
       "2       3.1\n",
       "3      68.1\n",
       "4      24.9\n",
       "5       4.0\n",
       "Name: Private HBCU, dtype: float64"
      ]
     },
     "execution_count": 69,
     "metadata": {},
     "output_type": "execute_result"
    }
   ],
   "source": [
    "colunas_privadasHBCU[0:6]"
   ]
  },
  {
   "cell_type": "code",
   "execution_count": 71,
   "id": "a1461b7b",
   "metadata": {},
   "outputs": [
    {
     "data": {
      "text/plain": [
       "0    2450.0\n",
       "1       NaN\n",
       "2       2.3\n",
       "3      68.1\n",
       "4      26.7\n",
       "5       2.9\n",
       "Name: Public HBCU, dtype: float64"
      ]
     },
     "execution_count": 71,
     "metadata": {},
     "output_type": "execute_result"
    }
   ],
   "source": [
    "coluna_publicasHBCU[0:6]"
   ]
  }
 ],
 "metadata": {
  "kernelspec": {
   "display_name": "Python 3 (ipykernel)",
   "language": "python",
   "name": "python3"
  },
  "language_info": {
   "codemirror_mode": {
    "name": "ipython",
    "version": 3
   },
   "file_extension": ".py",
   "mimetype": "text/x-python",
   "name": "python",
   "nbconvert_exporter": "python",
   "pygments_lexer": "ipython3",
   "version": "3.9.7"
  }
 },
 "nbformat": 4,
 "nbformat_minor": 5
}
